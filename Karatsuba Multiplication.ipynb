{
 "cells": [
  {
   "cell_type": "code",
   "execution_count": 3,
   "metadata": {},
   "outputs": [],
   "source": [
    "from math import floor, ceil\n",
    "\n",
    "def Karatsuba_multiplication(x, y):\n",
    "    \n",
    "    if abs(x) < 10 and abs(y) < 10:\n",
    "        return x * y\n",
    "    \n",
    "    n = max(len(str(x)), len(str(y)))\n",
    "    m = ceil(n/2)\n",
    "    \n",
    "    x_H = floor(x/ 10**m)\n",
    "    x_L = x % (10**m)\n",
    "    \n",
    "    y_H = floor(y / 10**m)\n",
    "    y_L = y % 10**m\n",
    "    \n",
    "    a = Karatsuba_multiplication(x_H, y_H)\n",
    "    d = Karatsuba_multiplication(x_L, y_L)\n",
    "    e = Karatsuba_multiplication(x_H + x_L, y_H + y_L) - a - d\n",
    "    \n",
    "    return int(a*(10**(m*2)) + e*(10**m) + d)"
   ]
  },
  {
   "cell_type": "code",
   "execution_count": 10,
   "metadata": {},
   "outputs": [],
   "source": [
    "a = 3141592653589793238462643383279502884197169399375105820974944592\n",
    "b = 2718281828459045235360287471352662497757247093699959574966967627"
   ]
  },
  {
   "cell_type": "code",
   "execution_count": null,
   "metadata": {},
   "outputs": [],
   "source": []
  },
  {
   "cell_type": "code",
   "execution_count": null,
   "metadata": {},
   "outputs": [],
   "source": []
  },
  {
   "cell_type": "code",
   "execution_count": null,
   "metadata": {},
   "outputs": [],
   "source": []
  }
 ],
 "metadata": {
  "kernelspec": {
   "display_name": "Python 3",
   "language": "python",
   "name": "python3"
  },
  "language_info": {
   "codemirror_mode": {
    "name": "ipython",
    "version": 3
   },
   "file_extension": ".py",
   "mimetype": "text/x-python",
   "name": "python",
   "nbconvert_exporter": "python",
   "pygments_lexer": "ipython3",
   "version": "3.7.3"
  }
 },
 "nbformat": 4,
 "nbformat_minor": 2
}
