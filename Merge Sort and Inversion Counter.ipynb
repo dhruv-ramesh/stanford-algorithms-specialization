{
 "cells": [
  {
   "cell_type": "code",
   "execution_count": 2,
   "metadata": {},
   "outputs": [],
   "source": [
    "from __future__ import division\n",
    "from math import ceil, floor\n",
    "import numpy as np\n",
    "import pandas as pd\n",
    "from os import listdir"
   ]
  },
  {
   "cell_type": "code",
   "execution_count": 3,
   "metadata": {},
   "outputs": [],
   "source": [
    "def merge_sort_helper(a, b):\n",
    "    \n",
    "    i = 0\n",
    "    j = 0\n",
    "    \n",
    "    a_size = len(a)\n",
    "    b_size = len(b)\n",
    "    \n",
    "    out = []\n",
    "    \n",
    "    for k in range(a_size + b_size):\n",
    "                if a[i] <= b[j]:\n",
    "                    out.append(a[i])\n",
    "                    i += 1\n",
    "                    if i == a_size:\n",
    "                        out = out + b[j:]\n",
    "                        break\n",
    "                else:\n",
    "                    out.append(b[j])\n",
    "                    j += 1\n",
    "                    if j == b_size:\n",
    "                        out = out + a[i:]\n",
    "                        break\n",
    "    \n",
    "    return out\n",
    "\n",
    "\n",
    "def merge_sort(ls):\n",
    "    \n",
    "    size = len(ls)\n",
    "    \n",
    "    if size == 1:\n",
    "        return ls\n",
    "    \n",
    "    mid_point = floor(size / 2)\n",
    "    \n",
    "    return merge_sort_helper(merge_sort(ls[:mid_point]),\n",
    "                                 merge_sort(ls[mid_point:]))\n",
    "\n",
    "def inversion_count_helper(tupa, tupb):\n",
    "    \n",
    "    assert len(tupa) == 2\n",
    "    assert len(tupb) == 2\n",
    "    \n",
    "    base_total = tupa[1] + tupb[1]\n",
    "    out = []\n",
    "    \n",
    "    i = 0\n",
    "    j = 0\n",
    "    \n",
    "    assert type(tupa[0]) == type([])\n",
    "    assert type(tupb[0]) == type([])\n",
    "    \n",
    "    a = tupa[0]\n",
    "    b = tupb[0]\n",
    "    \n",
    "    for k in range(len(a) + len(b)):\n",
    "            if a[i] <= b[j]:\n",
    "                out.append(a[i])\n",
    "                i += 1\n",
    "                if i == len(a):\n",
    "                    out = out + b[j:]\n",
    "                    break\n",
    "            else:\n",
    "                out.append(b[j])\n",
    "                j += 1\n",
    "                base_total = base_total + len(a[i:])\n",
    "                if j == len(b):\n",
    "                    out = out + a[i:]\n",
    "                    break\n",
    "    return (out, base_total)\n",
    "    \n",
    "\n",
    "def inversion_counter(ls):\n",
    "    \n",
    "    if len(ls) <= 1:\n",
    "        return (ls, 0)\n",
    "    \n",
    "    mid = floor(len(ls) / 2)\n",
    "    \n",
    "    return inversion_count_helper(inversion_counter(ls[:mid]), inversion_counter(ls[mid:]))"
   ]
  },
  {
   "cell_type": "code",
   "execution_count": 12,
   "metadata": {},
   "outputs": [],
   "source": [
    "inputls = pd.read_csv('hw2input.csv')['Nums'].tolist()"
   ]
  },
  {
   "cell_type": "code",
   "execution_count": 14,
   "metadata": {},
   "outputs": [],
   "source": [
    "result = inversion_counter(inputls)"
   ]
  },
  {
   "cell_type": "code",
   "execution_count": 15,
   "metadata": {},
   "outputs": [
    {
     "data": {
      "text/plain": [
       "2407905288"
      ]
     },
     "execution_count": 15,
     "metadata": {},
     "output_type": "execute_result"
    }
   ],
   "source": [
    "result[1]"
   ]
  },
  {
   "cell_type": "code",
   "execution_count": null,
   "metadata": {},
   "outputs": [],
   "source": []
  }
 ],
 "metadata": {
  "kernelspec": {
   "display_name": "Python 3",
   "language": "python",
   "name": "python3"
  },
  "language_info": {
   "codemirror_mode": {
    "name": "ipython",
    "version": 3
   },
   "file_extension": ".py",
   "mimetype": "text/x-python",
   "name": "python",
   "nbconvert_exporter": "python",
   "pygments_lexer": "ipython3",
   "version": "3.7.6"
  }
 },
 "nbformat": 4,
 "nbformat_minor": 2
}
