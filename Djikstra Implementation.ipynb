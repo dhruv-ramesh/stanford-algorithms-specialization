{
 "cells": [
  {
   "cell_type": "code",
   "execution_count": 22,
   "metadata": {},
   "outputs": [],
   "source": [
    "import numpy as np\n",
    "import pandas as pd\n",
    "from collections import deque\n",
    "import math "
   ]
  },
  {
   "cell_type": "code",
   "execution_count": 2,
   "metadata": {},
   "outputs": [],
   "source": [
    "nodes = set()\n",
    "edges = {}"
   ]
  },
  {
   "cell_type": "code",
   "execution_count": 3,
   "metadata": {},
   "outputs": [],
   "source": [
    "file = open('djikstrainput.txt')\n",
    "\n",
    "for line in file:\n",
    "\n",
    "    ls = line.split('\\t')\n",
    "    ls = ls[:-1]\n",
    "\n",
    "    nodes.add(ls[0])\n",
    "    for i in range(1, len(ls)):\n",
    "        ls2 = ls[i].split(',')\n",
    "        nodes.add(ls2[0])\n",
    "        if ls[0] in edges:\n",
    "            edges[ls[0]].append((ls2[0], ls2[1]))\n",
    "        else:\n",
    "            edges[ls[0]] = [(ls2[0], ls2[1])]\n",
    "            \n",
    "file.close()"
   ]
  },
  {
   "cell_type": "code",
   "execution_count": 30,
   "metadata": {},
   "outputs": [],
   "source": [
    "def run_bfs(graph, s):\n",
    "    \n",
    "    visited = set()\n",
    "    reachable = set()\n",
    "    \n",
    "    queue = deque([])\n",
    "    \n",
    "    visited.add(s)\n",
    "    queue.append(s)\n",
    "    \n",
    "    while queue:\n",
    "        \n",
    "        v = queue.popleft()\n",
    "        \n",
    "        for n in graph[v]:\n",
    "            if n[0] not in visited:\n",
    "                queue.append(n[0])\n",
    "                visited.add(n[0])\n",
    "                reachable.add(n[0])\n",
    "                \n",
    "    return reachable\n",
    "\n",
    "def run_djikstra(edges, s, reachable_nodes):\n",
    "    \n",
    "    X = set()\n",
    "    X.add(s)\n",
    "    shortest_path_length = {s: 0}\n",
    "    for n in reachable_nodes:\n",
    "        shortest_path_length[n] = math.inf\n",
    "    \n",
    "    while ((X - {s}) != reachable_nodes):\n",
    "        \n",
    "        min_length = math.inf\n",
    "        chosen_v = '-1'\n",
    "        chosen_u = '-1'\n",
    "        chosen_edge_weight = 0\n",
    "        \n",
    "        for u in X:\n",
    "            for v in edges[u]:\n",
    "                if (v[0] in reachable_nodes) and (v[0] not in X):\n",
    "                    if float(shortest_path_length[u]) + float(v[1]) < min_length:\n",
    "                        min_length = float(shortest_path_length[u]) + float(v[1])\n",
    "                        chosen_v = v[0]\n",
    "                        chosen_u = u\n",
    "                        chosen_edge_weight = float(v[1])\n",
    "                        \n",
    "        X.add(chosen_v)\n",
    "        shortest_path_length[chosen_v] = float(shortest_path_length[chosen_u]) + float(chosen_edge_weight)\n",
    "        \n",
    "    \n",
    "    return shortest_path_length    "
   ]
  },
  {
   "cell_type": "code",
   "execution_count": 5,
   "metadata": {},
   "outputs": [],
   "source": [
    "reachable_nodes = run_bfs(edges, '1')"
   ]
  },
  {
   "cell_type": "code",
   "execution_count": 31,
   "metadata": {},
   "outputs": [],
   "source": [
    "shortest_paths = run_djikstra(edges, '1', reachable_nodes)"
   ]
  },
  {
   "cell_type": "code",
   "execution_count": 34,
   "metadata": {},
   "outputs": [
    {
     "name": "stdout",
     "output_type": "stream",
     "text": [
      "2599\n",
      "2610\n",
      "2947\n",
      "2052\n",
      "2367\n",
      "2399\n",
      "2029\n",
      "2442\n",
      "2505\n",
      "3068\n"
     ]
    }
   ],
   "source": [
    "for n in [7,37,59,82,99,115,133,165,188,197]:\n",
    "    print(int(shortest_paths[str(n)]))"
   ]
  },
  {
   "cell_type": "code",
   "execution_count": null,
   "metadata": {},
   "outputs": [],
   "source": []
  },
  {
   "cell_type": "code",
   "execution_count": null,
   "metadata": {},
   "outputs": [],
   "source": []
  },
  {
   "cell_type": "code",
   "execution_count": null,
   "metadata": {},
   "outputs": [],
   "source": []
  },
  {
   "cell_type": "code",
   "execution_count": null,
   "metadata": {},
   "outputs": [],
   "source": []
  }
 ],
 "metadata": {
  "kernelspec": {
   "display_name": "Python 3",
   "language": "python",
   "name": "python3"
  },
  "language_info": {
   "codemirror_mode": {
    "name": "ipython",
    "version": 3
   },
   "file_extension": ".py",
   "mimetype": "text/x-python",
   "name": "python",
   "nbconvert_exporter": "python",
   "pygments_lexer": "ipython3",
   "version": "3.7.6"
  }
 },
 "nbformat": 4,
 "nbformat_minor": 4
}
