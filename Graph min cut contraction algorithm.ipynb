{
 "cells": [
  {
   "cell_type": "code",
   "execution_count": 1,
   "metadata": {},
   "outputs": [],
   "source": [
    "import numpy as np\n",
    "import pandas as pd\n",
    "from random import choice"
   ]
  },
  {
   "cell_type": "code",
   "execution_count": 2,
   "metadata": {},
   "outputs": [],
   "source": [
    "v_to_e_map = {}"
   ]
  },
  {
   "cell_type": "code",
   "execution_count": 3,
   "metadata": {},
   "outputs": [],
   "source": [
    "file = open('hw4input.txt', 'r')\n",
    "\n",
    "for line in file:\n",
    "    \n",
    "    ls = line.split('\\t')\n",
    "    \n",
    "    v_to_e_map[ls[0]] = ls[1:-1]\n",
    "    \n",
    "file.close()"
   ]
  },
  {
   "cell_type": "code",
   "execution_count": 4,
   "metadata": {},
   "outputs": [],
   "source": [
    "def contract(graph):\n",
    "    u = choice(list(graph.keys()))\n",
    "    v = choice(graph[u])\n",
    "    new_vertex = u+\":\"+v \n",
    "    graph[new_vertex] = graph[u] + graph[v]\n",
    "    del graph[u]\n",
    "    del graph[v]\n",
    "    \n",
    "    for key in graph.keys():\n",
    "        neighbors = graph[key]        \n",
    "        for n in neighbors:\n",
    "            if n == u or n == v:\n",
    "                graph[key] = [x for x in graph[key] if x != n]\n",
    "                if key != new_vertex:\n",
    "                    graph[key].append(new_vertex)\n",
    "    \n",
    "def min_cut(graph):\n",
    "    n = len(graph)\n",
    "    minimum = n*(n-1)//2\n",
    "    for i in range(100):\n",
    "        copy =  graph.copy()\n",
    "        while len(copy) > 2:\n",
    "            contract(copy)\n",
    "            minimum = min(minimum , len(list(copy.values())[0]))\n",
    "    return minimum"
   ]
  },
  {
   "cell_type": "code",
   "execution_count": 5,
   "metadata": {},
   "outputs": [
    {
     "data": {
      "text/plain": [
       "17"
      ]
     },
     "execution_count": 5,
     "metadata": {},
     "output_type": "execute_result"
    }
   ],
   "source": [
    "min_cut(v_to_e_map)"
   ]
  },
  {
   "cell_type": "code",
   "execution_count": null,
   "metadata": {},
   "outputs": [],
   "source": []
  },
  {
   "cell_type": "code",
   "execution_count": null,
   "metadata": {},
   "outputs": [],
   "source": []
  }
 ],
 "metadata": {
  "kernelspec": {
   "display_name": "Python 3",
   "language": "python",
   "name": "python3"
  },
  "language_info": {
   "codemirror_mode": {
    "name": "ipython",
    "version": 3
   },
   "file_extension": ".py",
   "mimetype": "text/x-python",
   "name": "python",
   "nbconvert_exporter": "python",
   "pygments_lexer": "ipython3",
   "version": "3.7.6"
  }
 },
 "nbformat": 4,
 "nbformat_minor": 4
}
