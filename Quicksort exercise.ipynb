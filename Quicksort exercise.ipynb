{
 "cells": [
  {
   "cell_type": "code",
   "execution_count": 1,
   "metadata": {},
   "outputs": [],
   "source": [
    "import numpy as np\n",
    "import pandas as pd\n",
    "from math import floor, ceil\n",
    "import sys\n",
    "sys.setrecursionlimit(10**6) \n",
    "import os"
   ]
  },
  {
   "cell_type": "code",
   "execution_count": 17,
   "metadata": {},
   "outputs": [],
   "source": [
    "def partition(ls):\n",
    "    \n",
    "    if len(ls) <= 1:\n",
    "        return ls, 0\n",
    "    \n",
    "    l = 0\n",
    "    r = len(ls)\n",
    "    \n",
    "    pivot = ls[l]\n",
    "    i = l + 1\n",
    "    \n",
    "    for j in range(l + 1, r):\n",
    "        if ls[j] < pivot:\n",
    "            temp = ls[i]\n",
    "            ls[i] = ls[j]\n",
    "            ls[j] = temp\n",
    "            i += 1\n",
    "            \n",
    "    temp = ls[i-1]\n",
    "    ls[i-1] = ls[l]\n",
    "    ls[l] = temp\n",
    "    \n",
    "    return ls, i-1\n",
    "\n",
    "def quicksort(ls, kind = 0):\n",
    "    \n",
    "    \n",
    "    if len(ls) <= 1:\n",
    "        return ls, 0\n",
    "    \n",
    "    if kind == 1:\n",
    "        first = ls[0]\n",
    "        last = ls[-1]\n",
    "        ls[0] = last\n",
    "        ls[-1] = first\n",
    "        \n",
    "    if kind == 2:\n",
    "        first = ls[0]\n",
    "        last = ls[-1]\n",
    "        mid = ls[floor(np.median(range(len(ls))))]\n",
    "        \n",
    "        med = np.median([first, last, mid])\n",
    "        \n",
    "        if med == last:\n",
    "            ls[0] = last\n",
    "            ls[-1] = first\n",
    "        \n",
    "        if med == mid:\n",
    "            ls[0] = mid\n",
    "            ls[floor(np.median(range(len(ls))))] = first\n",
    "    \n",
    "    parted = partition(ls)\n",
    "    \n",
    "    ppos = parted[1]\n",
    "    \n",
    "    left = parted[0][:ppos]\n",
    "    \n",
    "    right = parted[0][(ppos+1):]\n",
    "    \n",
    "    comparisons = len(left) + len(right)\n",
    "    \n",
    "    left = quicksort(left, kind)\n",
    "    right = quicksort(right, kind)\n",
    "    \n",
    "    ordered = left[0] + [parted[0][ppos]] + right[0]\n",
    "    \n",
    "    return ordered, comparisons + left[1] + right[1]"
   ]
  },
  {
   "cell_type": "code",
   "execution_count": 3,
   "metadata": {},
   "outputs": [],
   "source": [
    "inp = pd.read_csv('hw3input.csv')['inp'].tolist()"
   ]
  },
  {
   "cell_type": "code",
   "execution_count": 4,
   "metadata": {},
   "outputs": [],
   "source": [
    "test_files = 'stanford-algs/testCases/course1/assignment3Quicksort/input_dgrcode_'\n",
    "result_files = 'stanford-algs/testCases/course1/assignment3Quicksort/output_dgrcode_'"
   ]
  },
  {
   "cell_type": "code",
   "execution_count": 5,
   "metadata": {},
   "outputs": [],
   "source": [
    "f = '13_20'\n",
    "test = test_files + f + '.txt'\n",
    "result = result_files + f + '.txt'"
   ]
  },
  {
   "cell_type": "code",
   "execution_count": 11,
   "metadata": {},
   "outputs": [],
   "source": [
    "ls = []\n",
    "results = []\n",
    "with open(test) as fp:\n",
    "    \n",
    "    for line in fp:\n",
    "        ls.append(int(line))\n",
    "        \n",
    "with open(result) as fp:\n",
    "    \n",
    "    for line in fp:\n",
    "        results.append(int(line))"
   ]
  },
  {
   "cell_type": "code",
   "execution_count": 12,
   "metadata": {},
   "outputs": [
    {
     "data": {
      "text/plain": [
       "[19, 17, 4, 12, 18, 2, 7, 10, 8, 16, 9, 3, 5, 6, 15, 11, 20, 1, 13, 14]"
      ]
     },
     "execution_count": 12,
     "metadata": {},
     "output_type": "execute_result"
    }
   ],
   "source": [
    "ls"
   ]
  },
  {
   "cell_type": "code",
   "execution_count": 13,
   "metadata": {},
   "outputs": [
    {
     "data": {
      "text/plain": [
       "[91, 78, 66]"
      ]
     },
     "execution_count": 13,
     "metadata": {},
     "output_type": "execute_result"
    }
   ],
   "source": [
    "results"
   ]
  },
  {
   "cell_type": "code",
   "execution_count": 21,
   "metadata": {},
   "outputs": [
    {
     "data": {
      "text/plain": [
       "162085"
      ]
     },
     "execution_count": 21,
     "metadata": {},
     "output_type": "execute_result"
    }
   ],
   "source": [
    "quicksort(inp.copy())[1]"
   ]
  },
  {
   "cell_type": "code",
   "execution_count": 22,
   "metadata": {},
   "outputs": [
    {
     "data": {
      "text/plain": [
       "164123"
      ]
     },
     "execution_count": 22,
     "metadata": {},
     "output_type": "execute_result"
    }
   ],
   "source": [
    "quicksort(inp.copy(),1)[1]"
   ]
  },
  {
   "cell_type": "code",
   "execution_count": 23,
   "metadata": {},
   "outputs": [
    {
     "data": {
      "text/plain": [
       "138382"
      ]
     },
     "execution_count": 23,
     "metadata": {},
     "output_type": "execute_result"
    }
   ],
   "source": [
    "quicksort(inp.copy(),2)[1]"
   ]
  },
  {
   "cell_type": "code",
   "execution_count": null,
   "metadata": {},
   "outputs": [],
   "source": []
  },
  {
   "cell_type": "code",
   "execution_count": null,
   "metadata": {},
   "outputs": [],
   "source": []
  },
  {
   "cell_type": "code",
   "execution_count": null,
   "metadata": {},
   "outputs": [],
   "source": []
  },
  {
   "cell_type": "code",
   "execution_count": null,
   "metadata": {},
   "outputs": [],
   "source": []
  },
  {
   "cell_type": "code",
   "execution_count": null,
   "metadata": {},
   "outputs": [],
   "source": []
  },
  {
   "cell_type": "code",
   "execution_count": null,
   "metadata": {},
   "outputs": [],
   "source": []
  },
  {
   "cell_type": "code",
   "execution_count": 17,
   "metadata": {},
   "outputs": [],
   "source": []
  },
  {
   "cell_type": "code",
   "execution_count": null,
   "metadata": {},
   "outputs": [],
   "source": []
  },
  {
   "cell_type": "code",
   "execution_count": null,
   "metadata": {},
   "outputs": [],
   "source": []
  },
  {
   "cell_type": "code",
   "execution_count": null,
   "metadata": {},
   "outputs": [],
   "source": []
  }
 ],
 "metadata": {
  "kernelspec": {
   "display_name": "Python 3",
   "language": "python",
   "name": "python3"
  },
  "language_info": {
   "codemirror_mode": {
    "name": "ipython",
    "version": 3
   },
   "file_extension": ".py",
   "mimetype": "text/x-python",
   "name": "python",
   "nbconvert_exporter": "python",
   "pygments_lexer": "ipython3",
   "version": "3.7.6"
  }
 },
 "nbformat": 4,
 "nbformat_minor": 4
}
