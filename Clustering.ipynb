{
 "cells": [
  {
   "cell_type": "code",
   "execution_count": 2,
   "metadata": {},
   "outputs": [],
   "source": [
    "import copy\n",
    "import itertools\n",
    "from collections import namedtuple"
   ]
  },
  {
   "cell_type": "code",
   "execution_count": 3,
   "metadata": {},
   "outputs": [],
   "source": [
    "Edge = namedtuple('Edge', ('head', 'tail', 'cost'))"
   ]
  },
  {
   "cell_type": "code",
   "execution_count": 4,
   "metadata": {},
   "outputs": [],
   "source": [
    "class UnionFind:\n",
    "    def __init__(self, nodes):\n",
    "        self.nodes = nodes\n",
    "        self.leaders = dict()\n",
    "        self.members = dict()\n",
    "        for node in nodes:\n",
    "            # Keeps mapping of leaders to groups\n",
    "            if str(node) not in self.leaders:\n",
    "                self.leaders[str(node)] = [node]\n",
    "            # Account for duplicate node ids\n",
    "            else:\n",
    "                self.leaders[str(node)].append(node)\n",
    "            # Keeps mapping of nodes to leaders\n",
    "            self.members[str(node)] = node\n",
    "\n",
    "    def find(self, node):\n",
    "        return self.members[str(node)]\n",
    "\n",
    "    def union(self, node1, node2):\n",
    "        # Find our two groups and decide which should be merged into which by\n",
    "        # size of group\n",
    "        (old_leader, new_leader) = sorted((self.find(node1), self.find(node2)),\n",
    "                                          key = lambda x:\n",
    "                                                len(self.leaders[str(x)]))\n",
    "        # If these two nodes were already in the same group we are finished\n",
    "        if old_leader == new_leader:\n",
    "            return\n",
    "        else:\n",
    "            # Add the old group the new group\n",
    "            old_group = self.leaders.pop(str(old_leader))\n",
    "            self.leaders[str(new_leader)].extend(old_group)\n",
    "            # Reassign the leaders in the old group\n",
    "            for node in old_group:\n",
    "                self.members[str(node)] = new_leader"
   ]
  },
  {
   "cell_type": "code",
   "execution_count": 5,
   "metadata": {},
   "outputs": [],
   "source": [
    "def read_file(path):\n",
    "    \"\"\"Read a file and return a list of edges\"\"\"\n",
    "    edges = list()\n",
    "    with open(path, 'r') as handle:\n",
    "        lines = handle.readlines()\n",
    "        n_nodes = int(lines.pop(0))\n",
    "        for line in lines:\n",
    "            (head, tail, cost) = line.split(' ', 2)\n",
    "            edges.append(Edge(int(head), int(tail), int(cost)))\n",
    "    return list(range(1, n_nodes + 1)), edges"
   ]
  },
  {
   "cell_type": "code",
   "execution_count": 6,
   "metadata": {},
   "outputs": [],
   "source": [
    "def maximum_spacing(nodes, edges, k=4):\n",
    "    \"\"\"Find the maximum spacing for a graph of edges with k clusters\"\"\"\n",
    "    # Sort the edges by cost\n",
    "    edges = sorted(edges, key=lambda x: x.cost)\n",
    "    # Create our UnionFind data structure\n",
    "    nodes = UnionFind(nodes)\n",
    "    # While we have more groups then desired clusters\n",
    "    while len(nodes.leaders) >= k:\n",
    "        # Select the minimum edge and join two clusters\n",
    "        min_edge = edges.pop(0)\n",
    "        nodes.union(min_edge.head, min_edge.tail)\n",
    "    return min_edge.cost"
   ]
  },
  {
   "cell_type": "code",
   "execution_count": 8,
   "metadata": {},
   "outputs": [],
   "source": [
    "nodes, edges = read_file('clustering.txt')"
   ]
  },
  {
   "cell_type": "code",
   "execution_count": 9,
   "metadata": {},
   "outputs": [
    {
     "data": {
      "text/plain": [
       "106"
      ]
     },
     "execution_count": 9,
     "metadata": {},
     "output_type": "execute_result"
    }
   ],
   "source": [
    "maximum_spacing(nodes, edges)"
   ]
  },
  {
   "cell_type": "code",
   "execution_count": 10,
   "metadata": {},
   "outputs": [],
   "source": [
    "def read_hamming(path):\n",
    "    with open(path, 'r') as handle:\n",
    "        lines = handle.readlines()\n",
    "    n_nodes, n_bits = lines.pop(0).split(' ', 1)\n",
    "    nodes = list()\n",
    "    for i, line in enumerate(lines):\n",
    "        nodes.append(bytearray([int(i)\n",
    "                                for i in line.split(' ', int(n_bits) - 1)]))\n",
    "    return nodes"
   ]
  },
  {
   "cell_type": "code",
   "execution_count": 13,
   "metadata": {},
   "outputs": [],
   "source": [
    "def flip_bit(bit):\n",
    "    if bit == 1:\n",
    "        return 0\n",
    "    if bit == 0:\n",
    "        return 1\n",
    "\n",
    "def hamming_possibilities(node, distance):\n",
    "    \"\"\"Calculate all possible nodes within a hamming distance of node\"\"\"\n",
    "    idxs = itertools.combinations(range(len(node)), distance)\n",
    "    nodes = list()\n",
    "    for shift in idxs:\n",
    "        new = copy.copy(node)\n",
    "        for pos in shift:\n",
    "            new[pos] = flip_bit(node[pos])\n",
    "        nodes.append(new)\n",
    "    return nodes\n",
    "\n",
    "def minimum_clusters(nodes, spacing=2):\n",
    "    \"\"\"\n",
    "    Find the minimum clusters needed to have a specific spacing\n",
    "    \"\"\"\n",
    "    union = UnionFind(nodes)\n",
    "    for i in range(1, spacing+1):\n",
    "        for node in union.nodes:\n",
    "            closest = hamming_possibilities(node, i)\n",
    "            for partner in closest:\n",
    "                try:\n",
    "                    union.union(node, partner)\n",
    "                except KeyError:\n",
    "                    pass\n",
    "    return len(union.leaders)"
   ]
  },
  {
   "cell_type": "code",
   "execution_count": null,
   "metadata": {},
   "outputs": [],
   "source": [
    "minimum_clusters(read_hamming('clustering2.txt'))"
   ]
  },
  {
   "cell_type": "code",
   "execution_count": null,
   "metadata": {},
   "outputs": [],
   "source": []
  }
 ],
 "metadata": {
  "kernelspec": {
   "display_name": "Python 3",
   "language": "python",
   "name": "python3"
  },
  "language_info": {
   "codemirror_mode": {
    "name": "ipython",
    "version": 3
   },
   "file_extension": ".py",
   "mimetype": "text/x-python",
   "name": "python",
   "nbconvert_exporter": "python",
   "pygments_lexer": "ipython3",
   "version": "3.7.6"
  }
 },
 "nbformat": 4,
 "nbformat_minor": 4
}
