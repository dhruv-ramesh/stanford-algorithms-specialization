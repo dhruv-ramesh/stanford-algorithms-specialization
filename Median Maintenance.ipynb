{
 "cells": [
  {
   "cell_type": "code",
   "execution_count": 1,
   "metadata": {},
   "outputs": [],
   "source": [
    "import os\n",
    "import sys\n",
    "import numpy as np\n",
    "import pandas as pd"
   ]
  },
  {
   "cell_type": "code",
   "execution_count": 2,
   "metadata": {},
   "outputs": [],
   "source": [
    "class Heap:\n",
    "    \n",
    "    def __init__(self):\n",
    "        self.heaplist = [0]\n",
    "        self.currentsize = 0\n",
    "        \n",
    "    def bubbleup(self, i):\n",
    "        while i // 2 > 0:\n",
    "            if self.heaplist[i] < self.heaplist[i//2]:\n",
    "                temp = self.heaplist[i//2]\n",
    "                self.heaplist[i//2] = self.heaplist[i]\n",
    "                self.heaplist[i] = temp\n",
    "            i = i //2\n",
    "            \n",
    "    def insert(self, k):\n",
    "        self.heaplist.append(k)\n",
    "        self.currentsize += 1\n",
    "        self.bubbleup(self.currentsize)\n",
    "        \n",
    "    def smallerChild(self, i):       \n",
    "        if i * 2 + 1 > self.currentsize:\n",
    "            return i * 2\n",
    "        else:\n",
    "            if self.heaplist[i*2] < self.heaplist[i*2 + 1]:\n",
    "                return i * 2\n",
    "            else:\n",
    "                return i * 2 + 1\n",
    "            \n",
    "    def bubbledown(self, i):\n",
    "        while (i * 2) <= self.currentsize:\n",
    "            smallerchild = self.smallerChild(i)\n",
    "            if self.heaplist[i] >= self.heaplist[smallerchild]:\n",
    "                temp = self.heaplist[smallerchild]\n",
    "                self.heaplist[smallerchild] = self.heaplist[i]\n",
    "                self.heaplist[i] = temp\n",
    "            i = smallerchild\n",
    "            \n",
    "    def extractMin(self):\n",
    "        if self.currentsize == 0:\n",
    "            print(\"Heap is empty\")\n",
    "            return 0\n",
    "        minimum = self.heaplist[1]\n",
    "        self.heaplist[1] = self.heaplist[self.currentsize]\n",
    "        self.currentsize = self.currentsize - 1\n",
    "        self.heaplist.pop()\n",
    "        self.bubbledown(1)\n",
    "        return minimum\n",
    "    \n",
    "    def buildHeap(self,alist):\n",
    "        i = len(alist) // 2\n",
    "        self.currentsize = len(alist)\n",
    "        self.heaplist = [0] + alist[:]\n",
    "        while (i > 0):\n",
    "            self.bubbledown(i)\n",
    "            i = i - 1\n",
    "            \n",
    "    def printHeap(self):\n",
    "        print(self.heaplist[1:])\n",
    "        \n",
    "    def getCurrentSize(self):\n",
    "        return self.currentsize\n",
    "    \n",
    "    def getRoot(self):\n",
    "        \n",
    "        return self.heaplist[1]"
   ]
  },
  {
   "cell_type": "code",
   "execution_count": 3,
   "metadata": {},
   "outputs": [],
   "source": [
    "file = open('median.txt')\n",
    "ls = []\n",
    "for line in file:\n",
    "    ls.append(int(line))\n",
    "\n",
    "file.close()"
   ]
  },
  {
   "cell_type": "code",
   "execution_count": 4,
   "metadata": {},
   "outputs": [],
   "source": [
    "small_heap = Heap()\n",
    "big_heap = Heap()"
   ]
  },
  {
   "cell_type": "code",
   "execution_count": 5,
   "metadata": {},
   "outputs": [],
   "source": [
    "def medianMaintenance(n):\n",
    "    \n",
    "    global small_heap, big_heap\n",
    "    \n",
    "    if small_heap.getCurrentSize() == 0:\n",
    "        small_heap.insert(-1 * n)\n",
    "        return n\n",
    "    \n",
    "    if small_heap.getCurrentSize() == big_heap.getCurrentSize():\n",
    "        \n",
    "        if n > (small_heap.getRoot() * -1):\n",
    "            big_heap.insert(n)\n",
    "            big_heap_min = big_heap.extractMin()\n",
    "            small_heap.insert(-1 * big_heap_min)\n",
    "            return big_heap_min\n",
    "        else:\n",
    "            small_heap.insert(-1 * n)\n",
    "            return (-1 * small_heap.getRoot())\n",
    "            \n",
    "    elif small_heap.getCurrentSize() > big_heap.getCurrentSize():\n",
    "        \n",
    "        if n >= (small_heap.getRoot() * -1):\n",
    "            big_heap.insert(n)\n",
    "            return (small_heap.getRoot() * -1)\n",
    "        else:\n",
    "            small_heap.insert(-1 * n)\n",
    "            big_heap.insert(-1 * small_heap.extractMin())\n",
    "            return (small_heap.getRoot() * -1)"
   ]
  },
  {
   "cell_type": "code",
   "execution_count": 6,
   "metadata": {},
   "outputs": [
    {
     "data": {
      "text/plain": [
       "1213"
      ]
     },
     "execution_count": 6,
     "metadata": {},
     "output_type": "execute_result"
    }
   ],
   "source": [
    "medians = []\n",
    "for n in ls:\n",
    "    m = medianMaintenance(n)\n",
    "    medians.append(m)\n",
    "    \n",
    "sum(medians) % 10000"
   ]
  },
  {
   "cell_type": "code",
   "execution_count": null,
   "metadata": {},
   "outputs": [],
   "source": []
  }
 ],
 "metadata": {
  "kernelspec": {
   "display_name": "Python 3",
   "language": "python",
   "name": "python3"
  },
  "language_info": {
   "codemirror_mode": {
    "name": "ipython",
    "version": 3
   },
   "file_extension": ".py",
   "mimetype": "text/x-python",
   "name": "python",
   "nbconvert_exporter": "python",
   "pygments_lexer": "ipython3",
   "version": "3.7.6"
  }
 },
 "nbformat": 4,
 "nbformat_minor": 4
}
