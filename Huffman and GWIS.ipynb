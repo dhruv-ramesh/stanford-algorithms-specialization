{
 "cells": [
  {
   "cell_type": "code",
   "execution_count": 3,
   "metadata": {},
   "outputs": [],
   "source": [
    "import os\n",
    "import sys\n",
    "import heapq\n",
    "from collections import namedtuple"
   ]
  },
  {
   "cell_type": "code",
   "execution_count": 4,
   "metadata": {},
   "outputs": [],
   "source": [
    "Node = namedtuple('Node', ('weight','index'))"
   ]
  },
  {
   "cell_type": "code",
   "execution_count": 10,
   "metadata": {},
   "outputs": [],
   "source": [
    "def read_file_and_make_tree(name):\n",
    "    \n",
    "    tree = []\n",
    "    \n",
    "    file = open(name, 'r')\n",
    "    data = file.readlines()\n",
    "    \n",
    "    for index, line in enumerate(data[1:]):\n",
    "        item = line.split()\n",
    "        tree.append(Node(int(item[0]), str(index)))\n",
    "    \n",
    "    heapq.heapify(tree)\n",
    "    return tree\n",
    "\n",
    "def merge_nodes(x, y):\n",
    "    \n",
    "    return Node(x.weight+y.weight, '+'.join([x.index, y.index]))\n",
    "\n",
    "def huffman_lengths(tree):\n",
    "    \n",
    "    encoding_length = [0]*len(tree)\n",
    "    while(len(tree)>1):\n",
    "        a = heapq.heappop(tree)\n",
    "        b = heapq.heappop(tree)\n",
    "        \n",
    "        fake_node = merge_nodes(a,b)\n",
    "        heapq.heappush(tree, fake_node)\n",
    "        \n",
    "        com = [int(item) for item in fake_node.index.split('+')]\n",
    "        for i in com:\n",
    "            encoding_length[i] += 1\n",
    "        \n",
    "    return encoding_length"
   ]
  },
  {
   "cell_type": "code",
   "execution_count": 11,
   "metadata": {},
   "outputs": [],
   "source": [
    "code_lengths = huffman_lengths(read_file_and_make_tree(\"huffman.txt\"))"
   ]
  },
  {
   "cell_type": "code",
   "execution_count": 12,
   "metadata": {},
   "outputs": [
    {
     "data": {
      "text/plain": [
       "19"
      ]
     },
     "execution_count": 12,
     "metadata": {},
     "output_type": "execute_result"
    }
   ],
   "source": [
    "max(code_lengths)"
   ]
  },
  {
   "cell_type": "code",
   "execution_count": 13,
   "metadata": {},
   "outputs": [
    {
     "data": {
      "text/plain": [
       "9"
      ]
     },
     "execution_count": 13,
     "metadata": {},
     "output_type": "execute_result"
    }
   ],
   "source": [
    "min(code_lengths)"
   ]
  },
  {
   "cell_type": "code",
   "execution_count": 14,
   "metadata": {},
   "outputs": [],
   "source": [
    "def get_node_weights(name):\n",
    "\n",
    "    file = open(name,'r')\n",
    "    data = file.readlines()\n",
    "    \n",
    "    weights = [0]*(int(data[0])+1)\n",
    "    for index,line in enumerate(data[1:]):\n",
    "        item = line.split()\n",
    "        weights[index+1] = int(item[0])\n",
    "    \n",
    "    return weights\n",
    "\n",
    "\n",
    "def WIS(weights):\n",
    "\n",
    "    optimal_value = [0]*(len(weights))\n",
    "    optimal_value[0] = 0\n",
    "    optimal_value[1] = weights[1]\n",
    "    \n",
    "    # Find the optimal value\n",
    "    for i in range(2, len(weights)):\n",
    "        optimal_value[i] = max(optimal_value[i-1], optimal_value[i-2]+weights[i])\n",
    "    \n",
    "    # Trace back to find the optimal solution.\n",
    "    optimal_set= []\n",
    "    i = len(weights)-1 \n",
    "    while i >= 1:\n",
    "        if optimal_value[i-1] >= optimal_value[i-2]+weights[i]:\n",
    "            i = i-1\n",
    "        else:\n",
    "            optimal_set.append(i)\n",
    "            i = i-2\n",
    "    \n",
    "    return optimal_value, optimal_set"
   ]
  },
  {
   "cell_type": "code",
   "execution_count": 15,
   "metadata": {},
   "outputs": [],
   "source": [
    "weights = get_node_weights(\"mwis.txt\")"
   ]
  },
  {
   "cell_type": "code",
   "execution_count": 16,
   "metadata": {},
   "outputs": [],
   "source": [
    "optimal_value, optimal_set = WIS(weights)"
   ]
  },
  {
   "cell_type": "code",
   "execution_count": 20,
   "metadata": {},
   "outputs": [
    {
     "name": "stdout",
     "output_type": "stream",
     "text": [
      "[1, 0, 1, 0, 0, 1, 1, 0]\n"
     ]
    }
   ],
   "source": [
    "checks = [1,2,3,4,17,117,517,997] \n",
    "binary = []\n",
    "for i in checks:\n",
    "    if i in optimal_set:\n",
    "        binary.append(1)\n",
    "    else:\n",
    "        binary.append(0)\n",
    "print(binary)"
   ]
  },
  {
   "cell_type": "code",
   "execution_count": null,
   "metadata": {},
   "outputs": [],
   "source": []
  }
 ],
 "metadata": {
  "kernelspec": {
   "display_name": "Python 3",
   "language": "python",
   "name": "python3"
  },
  "language_info": {
   "codemirror_mode": {
    "name": "ipython",
    "version": 3
   },
   "file_extension": ".py",
   "mimetype": "text/x-python",
   "name": "python",
   "nbconvert_exporter": "python",
   "pygments_lexer": "ipython3",
   "version": "3.7.6"
  }
 },
 "nbformat": 4,
 "nbformat_minor": 4
}
