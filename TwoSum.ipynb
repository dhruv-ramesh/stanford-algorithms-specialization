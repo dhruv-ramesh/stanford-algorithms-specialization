{
 "cells": [
  {
   "cell_type": "code",
   "execution_count": 1,
   "metadata": {},
   "outputs": [],
   "source": [
    "import os\n",
    "import sys\n",
    "import numpy as np\n",
    "import pandas as pd"
   ]
  },
  {
   "cell_type": "code",
   "execution_count": 2,
   "metadata": {},
   "outputs": [
    {
     "name": "stdout",
     "output_type": "stream",
     "text": [
      "427\n"
     ]
    }
   ],
   "source": [
    "hmap = set([])\n",
    "count = 0\n",
    "input_file = open('twosum.txt')\n",
    "for line in input_file:\n",
    "    num = int(line.rstrip('\\n'))\n",
    "    hmap.add(num)\n",
    "input_file.close()\n",
    "\n",
    "def target_sum (t):\n",
    "    for element in hmap:\n",
    "        t_el = t-element\n",
    "        if t_el in hmap and t_el != element:\n",
    "            return 1\n",
    "    \n",
    "    return 0\n",
    "\n",
    "for i in range(-10000,10001):\n",
    "    if target_sum(i):\n",
    "        count += 1\n",
    "        \n",
    "print (count)"
   ]
  },
  {
   "cell_type": "code",
   "execution_count": null,
   "metadata": {},
   "outputs": [],
   "source": []
  }
 ],
 "metadata": {
  "kernelspec": {
   "display_name": "Python 3",
   "language": "python",
   "name": "python3"
  },
  "language_info": {
   "codemirror_mode": {
    "name": "ipython",
    "version": 3
   },
   "file_extension": ".py",
   "mimetype": "text/x-python",
   "name": "python",
   "nbconvert_exporter": "python",
   "pygments_lexer": "ipython3",
   "version": "3.7.6"
  }
 },
 "nbformat": 4,
 "nbformat_minor": 4
}
