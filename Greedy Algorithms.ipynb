{
 "cells": [
  {
   "cell_type": "code",
   "execution_count": 1,
   "metadata": {},
   "outputs": [],
   "source": [
    "import os\n",
    "import sys\n",
    "import numpy as np\n",
    "import pandas as pd\n",
    "import math"
   ]
  },
  {
   "cell_type": "code",
   "execution_count": 2,
   "metadata": {},
   "outputs": [],
   "source": [
    "number_of_jobs = 0\n",
    "differences = set([])\n",
    "difference_map = {}\n",
    "ratios = set([])\n",
    "ratio_map = {}"
   ]
  },
  {
   "cell_type": "code",
   "execution_count": 3,
   "metadata": {},
   "outputs": [],
   "source": [
    "file = open('jobs.txt')\n",
    "count = 0\n",
    "\n",
    "for line in file:\n",
    "    \n",
    "    if count < 1:\n",
    "        number_of_jobs = int(line.rstrip('\\n'))\n",
    "        count +=1 \n",
    "        continue\n",
    "        \n",
    "    data = line.rstrip('\\n').split(' ')\n",
    "    dif = int(data[0]) - int(data[1])\n",
    "    rat = int(data[0]) / int(data[1])\n",
    "    differences.add(dif)\n",
    "    ratios.add(rat)\n",
    "    if dif in difference_map.keys():\n",
    "        difference_map[dif].append((int(data[0]), int(data[1])))\n",
    "    else:\n",
    "        difference_map[dif] = [(int(data[0]), int(data[1]))]\n",
    "    if rat in ratio_map.keys():\n",
    "        ratio_map[rat].append((int(data[0]), int(data[1])))\n",
    "    else:\n",
    "        ratio_map[rat] = [(int(data[0]), int(data[1]))]\n",
    "file.close()"
   ]
  },
  {
   "cell_type": "code",
   "execution_count": 4,
   "metadata": {},
   "outputs": [],
   "source": [
    "differences = sorted(list(differences), reverse= True)\n",
    "ratios = sorted(list(ratios), reverse= True)"
   ]
  },
  {
   "cell_type": "code",
   "execution_count": 5,
   "metadata": {},
   "outputs": [],
   "source": [
    "wct = 0\n",
    "current_time = 0\n",
    "\n",
    "for d in differences:\n",
    "    for t in sorted(difference_map[d], reverse = True):\n",
    "        current_time += t[1]\n",
    "        wct += t[0] * current_time"
   ]
  },
  {
   "cell_type": "code",
   "execution_count": 6,
   "metadata": {},
   "outputs": [
    {
     "data": {
      "text/plain": [
       "69119377652"
      ]
     },
     "execution_count": 6,
     "metadata": {},
     "output_type": "execute_result"
    }
   ],
   "source": [
    "wct"
   ]
  },
  {
   "cell_type": "code",
   "execution_count": 7,
   "metadata": {},
   "outputs": [],
   "source": [
    "wct = 0\n",
    "current_time = 0\n",
    "\n",
    "for d in ratios:\n",
    "    for t in sorted(ratio_map[d]):\n",
    "        current_time += t[1]\n",
    "        wct += t[0] * current_time"
   ]
  },
  {
   "cell_type": "code",
   "execution_count": 8,
   "metadata": {},
   "outputs": [
    {
     "data": {
      "text/plain": [
       "67311454237"
      ]
     },
     "execution_count": 8,
     "metadata": {},
     "output_type": "execute_result"
    }
   ],
   "source": [
    "wct"
   ]
  },
  {
   "cell_type": "code",
   "execution_count": 7,
   "metadata": {},
   "outputs": [],
   "source": [
    "def run_Prims(s, nodes, edges, edge_costs):\n",
    "    \n",
    "    X = set([s])\n",
    "    mst_edges = set()\n",
    "    mst_weight = 0\n",
    "    \n",
    "    while X != nodes:\n",
    "        \n",
    "        min_edge = (0, 0)\n",
    "        min_edge_weight = math.inf\n",
    "        \n",
    "        for n in X:\n",
    "            for m in edges[n]:\n",
    "                if m not in X:\n",
    "                    if edge_costs[(n,m)] <= min_edge_weight:\n",
    "                        min_edge = (n, m)\n",
    "                        min_edge_weight = edge_costs[(n,m)]\n",
    "                        \n",
    "        mst_edges.add(min_edge)\n",
    "        mst_weight += min_edge_weight\n",
    "        X.add(min_edge[1])\n",
    "    \n",
    "    return mst_edges, mst_weight"
   ]
  },
  {
   "cell_type": "code",
   "execution_count": 3,
   "metadata": {},
   "outputs": [],
   "source": [
    "n, m = 0, 0\n",
    "edge_costs = {}\n",
    "nodes = set()\n",
    "edges = {}"
   ]
  },
  {
   "cell_type": "code",
   "execution_count": 4,
   "metadata": {},
   "outputs": [],
   "source": [
    "file = open('edges.txt')\n",
    "count = 0\n",
    "\n",
    "for line in file:\n",
    "    \n",
    "    if count < 1:\n",
    "        data = line.rstrip('\\n').split(' ')\n",
    "        n, m = data\n",
    "        n, m = int(n), int(m)\n",
    "        count += 1\n",
    "        continue\n",
    "        \n",
    "    data = line.rstrip('\\n').split(' ')\n",
    "    \n",
    "    nodes.add(data[0])\n",
    "    nodes.add(data[1])\n",
    "    \n",
    "    if data[0] in edges.keys():\n",
    "        edges[data[0]].add(data[1])\n",
    "    else:\n",
    "        edges[data[0]] = set([data[1]])\n",
    "    if data[1] in edges.keys():\n",
    "        edges[data[1]].add(data[0])\n",
    "    else:\n",
    "        edges[data[1]] = set([data[0]])\n",
    "    \n",
    "    if (data[0], data[1]) in edge_costs.keys():\n",
    "        edge_costs[(data[0], data[1])].append(int(data[2]))\n",
    "    else:\n",
    "        edge_costs[(data[0], data[1])] = int(data[2])\n",
    "        \n",
    "    if (data[1], data[0]) in edge_costs.keys():\n",
    "        edge_costs[(data[1], data[0])].append(int(data[2]))\n",
    "    else:\n",
    "        edge_costs[(data[1], data[0])] = int(data[2])\n",
    "        \n",
    "file.close()"
   ]
  },
  {
   "cell_type": "code",
   "execution_count": 8,
   "metadata": {},
   "outputs": [],
   "source": [
    "mst = run_Prims('1', nodes, edges, edge_costs)"
   ]
  },
  {
   "cell_type": "code",
   "execution_count": 9,
   "metadata": {},
   "outputs": [
    {
     "data": {
      "text/plain": [
       "-3612829"
      ]
     },
     "execution_count": 9,
     "metadata": {},
     "output_type": "execute_result"
    }
   ],
   "source": [
    "mst[1]"
   ]
  },
  {
   "cell_type": "code",
   "execution_count": null,
   "metadata": {},
   "outputs": [],
   "source": []
  }
 ],
 "metadata": {
  "kernelspec": {
   "display_name": "Python 3",
   "language": "python",
   "name": "python3"
  },
  "language_info": {
   "codemirror_mode": {
    "name": "ipython",
    "version": 3
   },
   "file_extension": ".py",
   "mimetype": "text/x-python",
   "name": "python",
   "nbconvert_exporter": "python",
   "pygments_lexer": "ipython3",
   "version": "3.7.6"
  }
 },
 "nbformat": 4,
 "nbformat_minor": 4
}
